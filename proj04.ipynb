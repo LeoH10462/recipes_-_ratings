{
 "cells": [
  {
   "cell_type": "markdown",
   "metadata": {},
   "source": [
    "# Your Title Here\n",
    "\n",
    "**Name(s)**: (your name(s) here)\n",
    "\n",
    "**Website Link**: (your website link)"
   ]
  },
  {
   "cell_type": "code",
   "execution_count": 1,
   "metadata": {
    "ExecuteTime": {
     "end_time": "2019-10-31T23:36:28.652554Z",
     "start_time": "2019-10-31T23:36:27.180520Z"
    }
   },
   "outputs": [],
   "source": [
    "import pandas as pd\n",
    "import numpy as np\n",
    "from pathlib import Path\n",
    "\n",
    "import plotly.express as px\n",
    "pd.options.plotting.backend = 'plotly'\n",
    "\n",
    "from dsc80_utils import * # Feel free to uncomment and use this."
   ]
  },
  {
   "cell_type": "markdown",
   "metadata": {},
   "source": [
    "## Step 1: Introduction"
   ]
  },
  {
   "cell_type": "code",
   "execution_count": 2,
   "metadata": {},
   "outputs": [],
   "source": [
    "# TODO"
   ]
  },
  {
   "cell_type": "markdown",
   "metadata": {},
   "source": [
    "## Step 2: Data Cleaning and Exploratory Data Analysis"
   ]
  },
  {
   "cell_type": "markdown",
   "metadata": {},
   "source": [
    "We first filled `np.nan` values for the `'ratings'` column of the `raw_interactions` dataframe as we believe that the missingness of `ratings` is not by random. We believe that it is more likely for people who are unsatisfied to not leave a rating. We left merged the `raw_recipes` and `raw_interactions` dataframe on each recipe's id so the merged dataframe will have a row per rating for each recipe (no rows if no ratings found in `raw_interations`). We then made sure that the `nutrition` column is stored as a list (for easier access) as well as converted values of the `date` column to `datetime` objects."
   ]
  },
  {
   "cell_type": "code",
   "execution_count": 3,
   "metadata": {},
   "outputs": [
    {
     "data": {
      "text/plain": [
       "0         5\n",
       "1         5\n",
       "2         5\n",
       "         ..\n",
       "731924    5\n",
       "731925    4\n",
       "731926    5\n",
       "Name: rating, Length: 731927, dtype: int64"
      ]
     },
     "execution_count": 3,
     "metadata": {},
     "output_type": "execute_result"
    }
   ],
   "source": [
    "raw_recipes = pd.read_csv('RAW_recipes.csv')\n",
    "raw_interactions = pd.read_csv('RAW_interactions.csv')\n",
    "raw_interactions['rating'].fillna(0)\n"
   ]
  },
  {
   "cell_type": "code",
   "execution_count": 4,
   "metadata": {},
   "outputs": [],
   "source": [
    "recipes_df = pd.merge(raw_recipes, raw_interactions, left_on = 'id', right_on = 'recipe_id')\n",
    "recipe_avg_rating = recipes_df.groupby('id').mean()['rating']\n",
    "recipes_df = recipes_df.merge(recipe_avg_rating, left_on = 'recipe_id', right_on = 'id')\n",
    "recipes_df = recipes_df.rename(columns={'rating_y': 'recipe_avg_rating'})\n",
    "recipes_df['nutrition'] = recipes_df['nutrition'].apply(lambda x: eval(x))\n",
    "recipes_df['date'] = recipes_df['date'].apply(lambda x: pd.to_datetime(x))"
   ]
  },
  {
   "cell_type": "code",
   "execution_count": 6,
   "metadata": {},
   "outputs": [
    {
     "data": {
      "text/html": [
       "<div>\n",
       "<style scoped>\n",
       "    .dataframe tbody tr th:only-of-type {\n",
       "        vertical-align: middle;\n",
       "    }\n",
       "\n",
       "    .dataframe tbody tr th {\n",
       "        vertical-align: top;\n",
       "    }\n",
       "\n",
       "    .dataframe thead th {\n",
       "        text-align: right;\n",
       "    }\n",
       "</style>\n",
       "<table border=\"1\" class=\"dataframe\">\n",
       "  <thead>\n",
       "    <tr style=\"text-align: right;\">\n",
       "      <th></th>\n",
       "      <th>name</th>\n",
       "      <th>id</th>\n",
       "      <th>minutes</th>\n",
       "      <th>contributor_id</th>\n",
       "      <th>...</th>\n",
       "      <th>date</th>\n",
       "      <th>rating_x</th>\n",
       "      <th>review</th>\n",
       "      <th>recipe_avg_rating</th>\n",
       "    </tr>\n",
       "  </thead>\n",
       "  <tbody>\n",
       "    <tr>\n",
       "      <th>0</th>\n",
       "      <td>1 brownies in the world    best ever</td>\n",
       "      <td>333281</td>\n",
       "      <td>40</td>\n",
       "      <td>985201</td>\n",
       "      <td>...</td>\n",
       "      <td>2008-11-19</td>\n",
       "      <td>4</td>\n",
       "      <td>These were pretty good, but took forever to ba...</td>\n",
       "      <td>4.0</td>\n",
       "    </tr>\n",
       "    <tr>\n",
       "      <th>1</th>\n",
       "      <td>1 in canada chocolate chip cookies</td>\n",
       "      <td>453467</td>\n",
       "      <td>45</td>\n",
       "      <td>1848091</td>\n",
       "      <td>...</td>\n",
       "      <td>2012-01-26</td>\n",
       "      <td>5</td>\n",
       "      <td>Originally I was gonna cut the recipe in half ...</td>\n",
       "      <td>5.0</td>\n",
       "    </tr>\n",
       "    <tr>\n",
       "      <th>2</th>\n",
       "      <td>412 broccoli casserole</td>\n",
       "      <td>306168</td>\n",
       "      <td>40</td>\n",
       "      <td>50969</td>\n",
       "      <td>...</td>\n",
       "      <td>2008-12-31</td>\n",
       "      <td>5</td>\n",
       "      <td>This was one of the best broccoli casseroles t...</td>\n",
       "      <td>5.0</td>\n",
       "    </tr>\n",
       "    <tr>\n",
       "      <th>...</th>\n",
       "      <td>...</td>\n",
       "      <td>...</td>\n",
       "      <td>...</td>\n",
       "      <td>...</td>\n",
       "      <td>...</td>\n",
       "      <td>...</td>\n",
       "      <td>...</td>\n",
       "      <td>...</td>\n",
       "      <td>...</td>\n",
       "    </tr>\n",
       "    <tr>\n",
       "      <th>234425</th>\n",
       "      <td>cookies by design   sugar shortbread cookies</td>\n",
       "      <td>298509</td>\n",
       "      <td>20</td>\n",
       "      <td>506822</td>\n",
       "      <td>...</td>\n",
       "      <td>2008-06-19</td>\n",
       "      <td>1</td>\n",
       "      <td>This recipe tastes nothing like the Cookies by...</td>\n",
       "      <td>2.0</td>\n",
       "    </tr>\n",
       "    <tr>\n",
       "      <th>234426</th>\n",
       "      <td>cookies by design   sugar shortbread cookies</td>\n",
       "      <td>298509</td>\n",
       "      <td>20</td>\n",
       "      <td>506822</td>\n",
       "      <td>...</td>\n",
       "      <td>2010-02-08</td>\n",
       "      <td>5</td>\n",
       "      <td>yummy cookies, i love this recipe me and my sm...</td>\n",
       "      <td>2.0</td>\n",
       "    </tr>\n",
       "    <tr>\n",
       "      <th>234427</th>\n",
       "      <td>cookies by design   sugar shortbread cookies</td>\n",
       "      <td>298509</td>\n",
       "      <td>20</td>\n",
       "      <td>506822</td>\n",
       "      <td>...</td>\n",
       "      <td>2014-11-01</td>\n",
       "      <td>0</td>\n",
       "      <td>I work at a Cookies By Design and can say this...</td>\n",
       "      <td>2.0</td>\n",
       "    </tr>\n",
       "  </tbody>\n",
       "</table>\n",
       "<p>234428 rows × 18 columns</p>\n",
       "</div>"
      ],
      "text/plain": [
       "                                                name      id  minutes  \\\n",
       "0               1 brownies in the world    best ever  333281       40   \n",
       "1                 1 in canada chocolate chip cookies  453467       45   \n",
       "2                             412 broccoli casserole  306168       40   \n",
       "...                                              ...     ...      ...   \n",
       "234425  cookies by design   sugar shortbread cookies  298509       20   \n",
       "234426  cookies by design   sugar shortbread cookies  298509       20   \n",
       "234427  cookies by design   sugar shortbread cookies  298509       20   \n",
       "\n",
       "        contributor_id  ...       date rating_x  \\\n",
       "0               985201  ... 2008-11-19        4   \n",
       "1              1848091  ... 2012-01-26        5   \n",
       "2                50969  ... 2008-12-31        5   \n",
       "...                ...  ...        ...      ...   \n",
       "234425          506822  ... 2008-06-19        1   \n",
       "234426          506822  ... 2010-02-08        5   \n",
       "234427          506822  ... 2014-11-01        0   \n",
       "\n",
       "                                                   review  recipe_avg_rating  \n",
       "0       These were pretty good, but took forever to ba...                4.0  \n",
       "1       Originally I was gonna cut the recipe in half ...                5.0  \n",
       "2       This was one of the best broccoli casseroles t...                5.0  \n",
       "...                                                   ...                ...  \n",
       "234425  This recipe tastes nothing like the Cookies by...                2.0  \n",
       "234426  yummy cookies, i love this recipe me and my sm...                2.0  \n",
       "234427  I work at a Cookies By Design and can say this...                2.0  \n",
       "\n",
       "[234428 rows x 18 columns]"
      ]
     },
     "execution_count": 6,
     "metadata": {},
     "output_type": "execute_result"
    }
   ],
   "source": [
    "recipes_df"
   ]
  },
  {
   "cell_type": "code",
   "execution_count": null,
   "metadata": {},
   "outputs": [],
   "source": []
  },
  {
   "cell_type": "code",
   "execution_count": null,
   "metadata": {},
   "outputs": [],
   "source": []
  },
  {
   "cell_type": "code",
   "execution_count": null,
   "metadata": {},
   "outputs": [],
   "source": []
  },
  {
   "cell_type": "markdown",
   "metadata": {},
   "source": [
    "## Step 3: Assessment of Missingness"
   ]
  },
  {
   "cell_type": "code",
   "execution_count": null,
   "metadata": {
    "ExecuteTime": {
     "end_time": "2019-10-31T23:36:28.662099Z",
     "start_time": "2019-10-31T23:36:28.660016Z"
    }
   },
   "outputs": [],
   "source": [
    "# TODO"
   ]
  },
  {
   "cell_type": "markdown",
   "metadata": {},
   "source": [
    "## Step 4: Hypothesis Testing"
   ]
  },
  {
   "cell_type": "code",
   "execution_count": null,
   "metadata": {
    "ExecuteTime": {
     "end_time": "2019-10-31T23:36:28.666489Z",
     "start_time": "2019-10-31T23:36:28.664381Z"
    }
   },
   "outputs": [],
   "source": [
    "# TODO"
   ]
  },
  {
   "cell_type": "markdown",
   "metadata": {},
   "source": [
    "## Step 5: Framing a Prediction Problem"
   ]
  },
  {
   "cell_type": "code",
   "execution_count": null,
   "metadata": {
    "ExecuteTime": {
     "end_time": "2019-10-31T23:36:28.657068Z",
     "start_time": "2019-10-31T23:36:28.654650Z"
    }
   },
   "outputs": [],
   "source": [
    "# TODO"
   ]
  },
  {
   "cell_type": "markdown",
   "metadata": {},
   "source": [
    "## Step 6: Baseline Model"
   ]
  },
  {
   "cell_type": "code",
   "execution_count": null,
   "metadata": {
    "ExecuteTime": {
     "end_time": "2019-10-31T23:36:28.662099Z",
     "start_time": "2019-10-31T23:36:28.660016Z"
    }
   },
   "outputs": [],
   "source": [
    "# TODO"
   ]
  },
  {
   "cell_type": "markdown",
   "metadata": {},
   "source": [
    "## Step 7: Final Model"
   ]
  },
  {
   "cell_type": "code",
   "execution_count": null,
   "metadata": {
    "ExecuteTime": {
     "end_time": "2019-10-31T23:36:28.662099Z",
     "start_time": "2019-10-31T23:36:28.660016Z"
    }
   },
   "outputs": [],
   "source": [
    "# TODO"
   ]
  },
  {
   "cell_type": "markdown",
   "metadata": {},
   "source": [
    "## Step 8: Fairness Analysis"
   ]
  },
  {
   "cell_type": "code",
   "execution_count": null,
   "metadata": {
    "ExecuteTime": {
     "end_time": "2019-10-31T23:36:28.666489Z",
     "start_time": "2019-10-31T23:36:28.664381Z"
    }
   },
   "outputs": [],
   "source": [
    "# TODO"
   ]
  }
 ],
 "metadata": {
  "kernelspec": {
   "display_name": "Python 3 (ipykernel)",
   "language": "python",
   "name": "python3"
  },
  "language_info": {
   "codemirror_mode": {
    "name": "ipython",
    "version": 3
   },
   "file_extension": ".py",
   "mimetype": "text/x-python",
   "name": "python",
   "nbconvert_exporter": "python",
   "pygments_lexer": "ipython3",
   "version": "3.8.18"
  }
 },
 "nbformat": 4,
 "nbformat_minor": 2
}
